{
 "cells": [
  {
   "cell_type": "code",
   "execution_count": null,
   "id": "d3f41cb7-c5f4-4d6d-a68d-fd9ae2b589b9",
   "metadata": {},
   "outputs": [],
   "source": []
  },
  {
   "cell_type": "markdown",
   "id": "9c77d8e9-e004-4bc0-88cb-0b47ea713943",
   "metadata": {
    "tags": []
   },
   "source": [
    "# Calcular Área e Perimetro\n"
   ]
  },
  {
   "cell_type": "markdown",
   "id": "dc9b4f90-3108-41a6-8d5c-e5584dc1e3a9",
   "metadata": {
    "tags": []
   },
   "source": [
    "Largura - 25 cm\n",
    "\n",
    "Comprimento - 17 cm\n",
    "\n",
    "Calcular áre e perimetro"
   ]
  },
  {
   "cell_type": "code",
   "execution_count": 6,
   "id": "a7154d02-b8d3-409b-8706-26a1691e3566",
   "metadata": {},
   "outputs": [
    {
     "name": "stdout",
     "output_type": "stream",
     "text": [
      "A área é  50\n",
      "O perímetro é  54\n"
     ]
    }
   ],
   "source": [
    "a = 25\n",
    "b = 2\n",
    "\n",
    "area = a * b\n",
    "perimetro = 2 * a + 2 * b\n",
    "\n",
    "print (\"A área é \",area)\n",
    "print (\"O perímetro é \",perimetro)"
   ]
  },
  {
   "cell_type": "markdown",
   "id": "302dc2c9-13b7-4a66-ac43-6bdc6aaec709",
   "metadata": {
    "tags": []
   },
   "source": [
    "# Fazer programa que calcule o número de segundos em 2 anos\n"
   ]
  },
  {
   "cell_type": "markdown",
   "id": "89a29121-1f81-418a-a293-8d768e8cc21a",
   "metadata": {},
   "source": [
    "### definir número de anos\n",
    "### definir númerode dias por ano\n",
    "### definir número de horas por ....\n"
   ]
  },
  {
   "cell_type": "code",
   "execution_count": 18,
   "id": "6e4d6a30-0f4c-4313-8283-a42a75fff84f",
   "metadata": {
    "tags": []
   },
   "outputs": [
    {
     "name": "stdout",
     "output_type": "stream",
     "text": [
      "126144000\n"
     ]
    }
   ],
   "source": [
    "# Criar variáveis\n",
    "num_anos = 4\n",
    "dias_por_ano = 365 \n",
    "horas_por_dia = 24\n",
    "mins_por_hora = 60\n",
    "segs_por_min = 60\n",
    "\n",
    "\n",
    "# Calcular o número de sugundos em 4 anos\n",
    "total_secs = segs_por_min * mins_por_hora * horas_por_dia * dias_por_ano * num_anos\n",
    "print(total_secs)\n"
   ]
  },
  {
   "cell_type": "markdown",
   "id": "c9eebdf6-89c7-4124-90f1-a12b2121c916",
   "metadata": {},
   "source": [
    "## Escrever o resultado em notação ciêntifica"
   ]
  }
 ],
 "metadata": {
  "kernelspec": {
   "display_name": "Python 3 (ipykernel)",
   "language": "python",
   "name": "python3"
  },
  "language_info": {
   "codemirror_mode": {
    "name": "ipython",
    "version": 3
   },
   "file_extension": ".py",
   "mimetype": "text/x-python",
   "name": "python",
   "nbconvert_exporter": "python",
   "pygments_lexer": "ipython3",
   "version": "3.11.4"
  }
 },
 "nbformat": 4,
 "nbformat_minor": 5
}
